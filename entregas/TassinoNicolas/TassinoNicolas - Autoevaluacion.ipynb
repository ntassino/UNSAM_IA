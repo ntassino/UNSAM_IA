{
  "nbformat": 4,
  "nbformat_minor": 0,
  "metadata": {
    "colab": {
      "name": "Copia de Auto-evaluación.ipynb",
      "provenance": [],
      "collapsed_sections": []
    },
    "kernelspec": {
      "display_name": "Python 3",
      "language": "python",
      "name": "python3"
    },
    "language_info": {
      "codemirror_mode": {
        "name": "ipython",
        "version": 3
      },
      "file_extension": ".py",
      "mimetype": "text/x-python",
      "name": "python",
      "nbconvert_exporter": "python",
      "pygments_lexer": "ipython3",
      "version": "3.7.6"
    }
  },
  "cells": [
    {
      "cell_type": "markdown",
      "metadata": {
        "id": "SjNybVh0b9wZ",
        "colab_type": "text"
      },
      "source": [
        "## Presentación\n",
        "\n",
        "Estos ejercicios tienen el fin de poder evaluar la situación en la que se encuentra cada unx de ustedes a esta altura de la materia. No es un examen, ni llevará ningún tipo de nota.\n",
        "\n",
        "Les pedimos que respeten al pie de la letra el nombre de las funciones que les damos para completar y su \"signature\". Esto es, que respeten los argumentos de entrada y la salida. Esto es porque tenemos una forma de verificación automática que de otra manera no funciona. Cuando hayamos recibido los notebooks, haremos público el código de control.\n",
        "\n",
        "Por supuesto, si quieren agregar celdas y más código, si quieren hacer pruebas para asegurarse de que el código funciona, etc., pueden hacerlo aquí mismo.\n",
        "\n",
        "La _modalidad de entrega preferencial_ es a través de GitHub:\n",
        "1. Hacer un fork del [repositorio](https://github.com/exord/UNSAM_IA), tocando el botón de arriba a la derecha (ver figura). \n",
        "\n",
        "2. Crear un subdirectorio dentro del directorio <tt>entregas</tt> con el formato \"ApellidoNombre\"\n",
        "3. Completar este notebook y colocarlo en ese directorio. Hacer un \"commit\" y un \"push\" a su versión del repositorio.\n",
        "4. Realizar un <tt>pull request</tt> desde GitHub y seguir las instrucciones. Más información en la [página de GitHub](https://help.github.com/en/github/collaborating-with-issues-and-pull-requests/about-pull-requests).\n",
        "\n",
        "De ser necesario, en caso de sufrir de **alergia severa a GitHub**, el notebook puede enviarse por email.\n",
        "\n",
        "La **fecha límite** para la entrega es el **martes 21 de abril a las 20 horas**.\n",
        "\n",
        "<figure>\n",
        "    <img src=\"https://github.com/exord/UNSAM_IA/blob/master/figures/fork_pullrequest.jpeg?raw=1\", alt=\"Fork\", width=\"800px\", \n",
        "         style=\"float: left; margin-right: 10px;\"/>\n",
        "    \n",
        "     <figcaption>Fig.1 - Ubicación de los botones para Fork y Pull request en Github.</figcaption>\n",
        "</figure>"
      ]
    },
    {
      "cell_type": "markdown",
      "metadata": {
        "colab_type": "text",
        "id": "xQGJAaz9My8p"
      },
      "source": [
        "## 1. Probabilidad Condicional"
      ]
    },
    {
      "cell_type": "code",
      "metadata": {
        "colab_type": "code",
        "id": "UV8ZHtWoMWVd",
        "outputId": "4914feec-4fd0-48b9-8c18-130430767a8e",
        "colab": {
          "base_uri": "https://localhost:8080/",
          "height": 204
        }
      },
      "source": [
        "#Si estas en Google Colab, ejecuta esta celda una unica vez:\n",
        "!mkdir datasets\n",
        "!mkdir datasets/student-alcohol-consumption\n",
        "!wget https://raw.githubusercontent.com/exord/UNSAM_IA/master/datasets/student-alcohol-consumption/student-mat.csv\n",
        "!mv student-mat.csv datasets/student-alcohol-consumption/student-mat.csv"
      ],
      "execution_count": 2,
      "outputs": [
        {
          "output_type": "stream",
          "text": [
            "--2020-04-20 12:58:58--  https://raw.githubusercontent.com/exord/UNSAM_IA/master/datasets/student-alcohol-consumption/student-mat.csv\n",
            "Resolving raw.githubusercontent.com (raw.githubusercontent.com)... 151.101.0.133, 151.101.64.133, 151.101.128.133, ...\n",
            "Connecting to raw.githubusercontent.com (raw.githubusercontent.com)|151.101.0.133|:443... connected.\n",
            "HTTP request sent, awaiting response... 200 OK\n",
            "Length: 41983 (41K) [text/plain]\n",
            "Saving to: ‘student-mat.csv’\n",
            "\n",
            "\rstudent-mat.csv       0%[                    ]       0  --.-KB/s               \rstudent-mat.csv     100%[===================>]  41.00K  --.-KB/s    in 0.02s   \n",
            "\n",
            "2020-04-20 12:58:59 (1.66 MB/s) - ‘student-mat.csv’ saved [41983/41983]\n",
            "\n"
          ],
          "name": "stdout"
        }
      ]
    },
    {
      "cell_type": "markdown",
      "metadata": {
        "colab_type": "text",
        "id": "MDyX2WNDM1fC"
      },
      "source": [
        "Similar al ***Caso: Apruebo si falto a clase?*** del [notebook de probabilidad condicional](02_Condicional.ipynb), calcule la probabilidad de que un alumno haya faltado menos de 3 veces dado que sacó más de un 60% en la materia, i.e.\n",
        "$$\n",
        "P( \\text{absences} < 3 | \\text{G3} \\geq 12).\n",
        "$$\n",
        "\n",
        "Por favor, utilice el siguiente signature. Se recomienda cambiar el código solamente entre los comentarios \"Start\" y \"Finish\". \n",
        "Si quiere probar cosas, siéntase libre de crear nuevas celdas de código, aunque estas no serán evaluadas."
      ]
    },
    {
      "cell_type": "code",
      "metadata": {
        "colab_type": "code",
        "id": "kgp3Px1JNFbA",
        "colab": {}
      },
      "source": [
        "import numpy as np\n",
        "import pandas as pd\n",
        "\n",
        "def prob_condicional(\n",
        "    df=pd.read_csv('datasets/student-alcohol-consumption/student-mat.csv')):\n",
        "    \"\"\"Calcula P(absences < 3 | G3 >= 12).\n",
        "\n",
        "    Input:\n",
        "    df -- dataset de estudiantes\n",
        "\n",
        "    Output:\n",
        "    p        -- probabilidad de que absences > 3 dado que G3 >= 12\n",
        "    \"\"\"\n",
        "    #Start\n",
        "# Obtengo los números de alumnos en cada subgrupo\n",
        "    pocasfaltas = df.apply(lambda x: True if x['absences'] < 3 else False ,\n",
        "                           axis=1)\n",
        "    n_pocasfaltas = len(pocasfaltas[pocasfaltas == True].index)\n",
        "\n",
        "\n",
        "    G3_mayor12 = df.apply(lambda x: True if x['G3'] >= 12 else False ,\n",
        "                          axis=1)\n",
        "    n_G3_mayor12 = len(G3_mayor12[G3_mayor12 == True].index)\n",
        "\n",
        "\n",
        "    aprueba_pocasfaltas = df.apply(lambda x: True if x['absences'] < 3 \n",
        "                                  and x['G3'] >= 12 else False , axis=1)\n",
        "    n_aprueba_pocasfaltas = len(aprueba_pocasfaltas[aprueba_pocasfaltas == True].index)\n",
        "\n",
        "\n",
        "    total_alumnos = len(df)\n",
        "\n",
        "# Obtengo las probabilidades de cada subgrupo\n",
        "    p_G3_mayor12 = n_G3_mayor12 / total_alumnos\n",
        "    p_pocasfaltas = n_pocasfaltas / total_alumnos\n",
        "    p_ambas = n_aprueba_pocasfaltas / total_alumnos\n",
        "\n",
        "# Calculo la probabilidad solicitada\n",
        "    p = p_ambas / p_G3_mayor12\n",
        "\n",
        "    #guarda el valor final, como un número, en esta variable\n",
        "    resultado = p\n",
        "    #Finish\n",
        "    return resultado"
      ],
      "execution_count": 0,
      "outputs": []
    },
    {
      "cell_type": "code",
      "metadata": {
        "id": "b_ScfwxFeYdm",
        "colab_type": "code",
        "outputId": "276dc8d9-c357-469c-9a8c-b5718b0b41ec",
        "colab": {
          "base_uri": "https://localhost:8080/",
          "height": 51
        }
      },
      "source": [
        "pocasfaltas = df.apply(lambda x: True if x['absences'] < 3 else False , axis=1)\n",
        "n_pocasfaltas = len(pocasfaltas[pocasfaltas == True].index)\n",
        "\n",
        "G3_mayor12 = df.apply(lambda x: True if x['G3'] >= 12 else False , axis=1)\n",
        "n_G3_mayor12 = len(G3_mayor12[G3_mayor12 == True].index)\n",
        "\n",
        "aprueba_pocasfaltas = df.apply(lambda x: True if x['absences'] < 3 \n",
        "                               and x['G3'] >= 12 else False , axis=1)\n",
        "n_aprueba_pocasfaltas = len(aprueba_pocasfaltas[aprueba_pocasfaltas == True].index)\n",
        "\n",
        "total_alumnos = len(df)\n",
        "\n",
        "p_G3_mayor12 = n_G3_mayor12 / total_alumnos\n",
        "p_pocasfaltas = n_pocasfaltas / total_alumnos\n",
        "p_ambas = n_aprueba_pocasfaltas / total_alumnos\n",
        "\n",
        "p = p_ambas / p_G3_mayor12\n"
      ],
      "execution_count": 0,
      "outputs": [
        {
          "output_type": "stream",
          "text": [
            "81\n",
            "0.5\n"
          ],
          "name": "stdout"
        }
      ]
    },
    {
      "cell_type": "markdown",
      "metadata": {
        "colab_type": "text",
        "id": "laC3JpLHOx-h"
      },
      "source": [
        "## 2. Inferencia Bayesiana"
      ]
    },
    {
      "cell_type": "markdown",
      "metadata": {
        "colab_type": "text",
        "id": "dfG9aID6_CLD"
      },
      "source": [
        "Se tira una moneda N veces, de las cuales X sale cara. La moneda sale cara con una frecuencia $\\mu$ desconocida, pero que se cree que es *fair*. \n",
        "\n",
        "Construya una función que recibe el vector con los N resultados (1: cara, 0: seca) y con él calcule tanto el posterior del parámetro $\\mu$ como la probabilidad de que $\\mu>0.7$. Use como prior una distribución normal con media 0.5 y desviación estandar 0.1 ($\\mathcal{N}(0.5,0.1)$)\n",
        "\n",
        "Por favor, utilice el siguiente signature. Se recomienda cambiar el código solamente entre los comentarios \"Start\" y \"Finish\". \n",
        "Si quiere probar cosas, siéntase libre de crear nuevas celdas de código, aunque estas no serán evaluadas.\n",
        "\n",
        "<b>Ayuda</b>: usar los métodos <tt>pdf</tt> y <tt>pmf</tt> de las clases de <tt>scipy.stats</tt> que se importan al principio de la celda. Revisar también los notebooks de [teoría](03_Inferencia.ipynb) y [práctica](03p_Inferencia_Soluciones.ipynb) que se presentaron en clase."
      ]
    },
    {
      "cell_type": "code",
      "metadata": {
        "colab_type": "code",
        "id": "-NY1kRNs1GnH",
        "colab": {}
      },
      "source": [
        "import numpy as np\n",
        "from scipy.stats import binom, norm\n",
        "\n",
        "def inferencia_moneda(tiradas, seed=123):\n",
        "    \"\"\"Realiza inferencia bayesiana en el parametro mu de una moneda.\n",
        "\n",
        "    Input:\n",
        "    tiradas -- Resultado de N tiradas\n",
        "    seed    -- Semilla para np.random (default=123)\n",
        "\n",
        "    Output:\n",
        "    p        -- probabilidad de que mu>0.7\n",
        "    posterior-- posterior de mu, shape=(100,)\n",
        "    \"\"\"\n",
        "    np.random.seed(seed)\n",
        "    mu, step = np.linspace(0,1,num=100, retstep=True) #step es el espacio entre puntos\n",
        "\n",
        "    #Numero de tiradas, y de veces que salio cara\n",
        "    N=len(tiradas)\n",
        "    X=np.sum(tiradas)\n",
        "\n",
        "    #Start\n",
        "    prior = norm.pdf(mu, 0.5, 0.1) #Esto es el prior evaluado en el vector mu\n",
        "    verosimilitud = binom.pmf(X, N, mu) #La verosimilitud evaluada en el vector mu\n",
        "    posterior = prior*verosimilitud #el posterior no normalizado\n",
        "    evidencia = posterior.sum() * (1/100) #evidencia o verosimilitud marginalizada\n",
        "    posterior = posterior/evidencia #normalizamos para obtener el posterior\n",
        "\n",
        "    p = posterior[mu>0.7].sum() * (1/100) #Probabilidad de que mu > 0.7 \n",
        "    #Finish\n",
        "    assert len(posterior) == len(mu), \"Tamaño del posterior distinto al de mu\"\n",
        "    return p, np.array(posterior)\n",
        "\n"
      ],
      "execution_count": 0,
      "outputs": []
    },
    {
      "cell_type": "code",
      "metadata": {
        "id": "RLm7MKS0V2ay",
        "colab_type": "code",
        "outputId": "a7e115d6-efde-4b83-a1ef-e4c1dc14428f",
        "colab": {
          "base_uri": "https://localhost:8080/",
          "height": 299
        }
      },
      "source": [
        "from matplotlib import pyplot as plt\n",
        "tiradas = np.random.randint(0, 2, 100)\n",
        "np.random.seed(123)\n",
        "mu, step = np.linspace(0,1,num=100, retstep=True) #step es el espacio entre puntos\n",
        "\n",
        "#Numero de tiradas, y de veces que salio cara\n",
        "N=len(tiradas)\n",
        "X=np.sum(tiradas)\n",
        "\n",
        "prior = norm.pdf(mu, 0.5, 0.1)\n",
        "verosimilitud = binom.pmf(X, N, mu)\n",
        "posterior = prior * verosimilitud\n",
        "\n",
        "#Son 100 puntos equidistantes\n",
        "evidencia = posterior.sum() * (1/100)\n",
        "\n",
        "#Normalizar el posterior\n",
        "posterior = posterior / evidencia\n",
        "\n",
        "#La probabilidad de que sea mayor es el area debajo de la curva para mu > 0.7\n",
        "p = posterior[(mu > 0.4) & (mu < 0.6)].sum() * (1/100)\n",
        "\n",
        "print(p)\n",
        "plt.plot(mu, posterior)"
      ],
      "execution_count": 5,
      "outputs": [
        {
          "output_type": "stream",
          "text": [
            "0.957933271381768\n"
          ],
          "name": "stdout"
        },
        {
          "output_type": "execute_result",
          "data": {
            "text/plain": [
              "[<matplotlib.lines.Line2D at 0x7fef44450828>]"
            ]
          },
          "metadata": {
            "tags": []
          },
          "execution_count": 5
        },
        {
          "output_type": "display_data",
          "data": {
            "image/png": "[encoded data removed]",
            "text/plain": [
              "<Figure size 432x288 with 1 Axes>"
            ]
          },
          "metadata": {
            "tags": [],
            "needs_background": "light"
          }
        }
      ]
    },
    {
      "cell_type": "markdown",
      "metadata": {
        "colab_type": "text",
        "id": "koZhGjvgO4uo"
      },
      "source": [
        "## 3. Regresión Lineal"
      ]
    },
    {
      "cell_type": "markdown",
      "metadata": {
        "colab_type": "text",
        "id": "TLYPUIQrPMgk"
      },
      "source": [
        "Construye una función que dado un input (X_train, Y_train) realice un ajuste lineal de cuadrados mínimos, y con ello devuelva las predicciones para el input X_test como un vector Y_test.\n",
        "\n",
        "Por favor, utilice el siguiente signature. Se recomienda cambiar el código solamente entre los comentarios \"Start\" y \"Finish\". \n",
        "Si quiere probar cosas, siéntase libre de crear nuevas celdas de código, aunque estas no serán evaluadas.\n",
        "\n",
        "<b>Ayuda</b>: pueden usar la implementación de las ecuaciones normales que aparece en el notebook de [modelos lineales](05_ModelosLineales.ipynb) o las clases del módulo <tt>sklearn.linear_model</tt>."
      ]
    },
    {
      "cell_type": "code",
      "metadata": {
        "colab_type": "code",
        "id": "NavUqiDhPLx-",
        "colab": {}
      },
      "source": [
        "import numpy as np\n",
        "from sklearn import linear_model\n",
        "\n",
        "def ajuste_lineal(X_train, Y_train, X_test):\n",
        "    \"\"\"Calcula un ajuste lineal.\n",
        "\n",
        "    Input:\n",
        "    X_train -- datos de entrenamiento, shape=(N,1)\n",
        "    Y_train -- etiquetas de entrenamiento, shape=(N,1)\n",
        "    X_test  -- datos de testeo, shape=(N_test,1)\n",
        "\n",
        "    Output:\n",
        "    Y_test  -- prediccion de etiquetas para X_test, shape=(N_test,1)\n",
        "    \"\"\"\n",
        "\n",
        "    N=len(X_train)\n",
        "    N_test=len(X_test)\n",
        "    #Start\n",
        "    lin_reg.fit(X_train, Y_train)\n",
        "    \n",
        "    #ahora guardamos los resultados en esta variable\n",
        "    Y_test = lin_reg.predict(X_test)\n",
        "\n",
        "    #Finish\n",
        "    assert len(Y_test) == len(X_test), \"Tamaño de Y_test distinto al de X_test\"\n",
        "    return np.array(Y_test)"
      ],
      "execution_count": 0,
      "outputs": []
    },
    {
      "cell_type": "code",
      "metadata": {
        "id": "dYcMbyeThTeH",
        "colab_type": "code",
        "outputId": "4472e951-6771-4079-cc0d-c998dad0b326",
        "colab": {
          "base_uri": "https://localhost:8080/",
          "height": 283
        }
      },
      "source": [
        "import numpy as np\n",
        "from sklearn import linear_model\n",
        "from sklearn.model_selection import train_test_split\n",
        "\n",
        "np.random.seed(111)\n",
        "\n",
        "#Genero datos sintéticos para probar el modelo\n",
        "b = 3\n",
        "m = 5\n",
        "\n",
        "n = 100\n",
        "\n",
        "x_ = 5 * np.random.rand(n, 1)\n",
        "t_ = b + m * x_\n",
        "\n",
        "t_ += np.random.randn(n, 1)\n",
        "\n",
        "plt.scatter(x_, t_)\n",
        "\n",
        "#creo un array para poder utilizar el separador de scikit\n",
        "array = np.hstack([x_, t_])\n",
        "\n",
        "#Separo en train y test\n",
        "train, test = train_test_split(array, test_size = 0.2, random_state = 111)\n",
        "\n",
        "x_train = train[:, 0].reshape(len(train), 1)\n",
        "y_train = train[:, 1].reshape(len(train), 1)\n",
        "\n",
        "X_test = test[:, 0].reshape(len(test), 1)\n",
        "Y_test = test[:, 1].reshape(len(test), 1)\n",
        "\n",
        "#Creo el objeto de regresion lineal y lo fiteo a mis datos\n",
        "lin_reg = linear_model.LinearRegression()\n",
        "lin_reg.fit(x_train, y_train)\n",
        "\n",
        "Y_predict = lin_reg.predict(X_test)\n",
        "\n",
        "#Grafico para tener una idea del resultado\n",
        "plt.scatter(X_test, Y_predict, label = \"Predictor\")\n",
        "plt.scatter(X_test, Y_test, label = \"Dato\")\n",
        "plt.legend()\n"
      ],
      "execution_count": 19,
      "outputs": [
        {
          "output_type": "execute_result",
          "data": {
            "text/plain": [
              "<matplotlib.legend.Legend at 0x7fef40f6cb38>"
            ]
          },
          "metadata": {
            "tags": []
          },
          "execution_count": 19
        },
        {
          "output_type": "display_data",
          "data": {
            "image/png": "[encoded data removed]",
            "text/plain": [
              "<Figure size 432x288 with 1 Axes>"
            ]
          },
          "metadata": {
            "tags": [],
            "needs_background": "light"
          }
        }
      ]
    },
    {
      "cell_type": "code",
      "metadata": {
        "id": "91Vc4BNFh4hg",
        "colab_type": "code",
        "colab": {}
      },
      "source": [
        ""
      ],
      "execution_count": 0,
      "outputs": []
    }
  ]
}